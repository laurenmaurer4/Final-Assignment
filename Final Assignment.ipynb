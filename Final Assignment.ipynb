{
  "metadata": {
    "language_info": {
      "codemirror_mode": {
        "name": "python",
        "version": 3
      },
      "file_extension": ".py",
      "mimetype": "text/x-python",
      "name": "python",
      "nbconvert_exporter": "python",
      "pygments_lexer": "ipython3",
      "version": "3.8"
    },
    "kernelspec": {
      "name": "python",
      "display_name": "Pyolite",
      "language": "python"
    }
  },
  "nbformat_minor": 4,
  "nbformat": 4,
  "cells": [
    {
      "cell_type": "markdown",
      "source": "# My Jupyter Notebook on IBM Watson Studio",
      "metadata": {}
    },
    {
      "cell_type": "markdown",
      "source": "<b>Lauren Maurer</b>\n<br>High school student",
      "metadata": {}
    },
    {
      "cell_type": "markdown",
      "source": "<i>I am interested in data science because finding patterns in data fascinates me. I want to be able to see patterns in data and use it to help people in healthcare or in sports analytics. </i>",
      "metadata": {
        "tags": []
      }
    },
    {
      "cell_type": "markdown",
      "source": "### My code is going to divide two numbers",
      "metadata": {}
    },
    {
      "cell_type": "code",
      "source": "500/20",
      "metadata": {
        "tags": [],
        "trusted": true
      },
      "execution_count": 6,
      "outputs": [
        {
          "execution_count": 6,
          "output_type": "execute_result",
          "data": {
            "text/plain": "25.0"
          },
          "metadata": {}
        }
      ]
    },
    {
      "cell_type": "markdown",
      "source": "<s>strikethrough</s>\n    <br>\n    <ol>\n        <li>dogs</li>\n        <li>cats</li>\n        <li>fish</li> <br>\n<ul>\n    <li>dogs</li>\n    <li>cats</li>\n    <li>fish</li>\n    ",
      "metadata": {}
    }
  ]
}